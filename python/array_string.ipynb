{
 "cells": [
  {
   "cell_type": "code",
   "execution_count": null,
   "metadata": {},
   "outputs": [],
   "source": [
    "# https://leetcode.com/problems/merge-strings-alternately/\n",
    "class Solution:\n",
    "    def mergeAlternately(self, word1: str, word2: str) -> str:\n",
    "        res = []\n",
    "        n = max(len(word1), len(word2))\n",
    "        for i in range(n):\n",
    "            if i < len(word1):\n",
    "                res.append(word1[i])\n",
    "            if i < len(word2):\n",
    "                res.append(word2[i])\n",
    "\n",
    "        return \"\".join(res)\n",
    "        \n",
    "\n",
    "sol = Solution()\n",
    "sol.mergeAlternately('abc', 'pqrt')\n"
   ]
  },
  {
   "cell_type": "code",
   "execution_count": null,
   "metadata": {},
   "outputs": [],
   "source": [
    "# https://leetcode.com/problems/greatest-common-divisor-of-strings\n",
    "class Solution:\n",
    "    def kidsWithCandies(self, candies: list[int], extraCandies: int) -> list[bool]:\n",
    "        arrMax = max(candies)\n",
    "        return [x + extraCandies >= arrMax for x in candies]\n",
    "\n",
    "sol = Solution()\n",
    "sol.kidsWithCandies([2,3,5,1,3], 3)\n",
    "      \n",
    "# candies = [12,1,12], extraCandies = 10\n",
    "# true, false, true \n",
    "# candies = [2,3,5,1,3], extraCandies = 3\n",
    "# true, true, true, false, true \n"
   ]
  },
  {
   "cell_type": "code",
   "execution_count": null,
   "metadata": {},
   "outputs": [],
   "source": [
    "# https://leetcode.com/problems/can-place-flowers\n",
    "class Solution:\n",
    "    def canPlaceFlowers(self, flowerbed: list[int], n: int) -> bool:\n",
    "        # print([1 for i in range(1, len(flowerbed) - 1) if flowerbed[i - 1] == 0])\n",
    "        # return True\n",
    "\n",
    "        count = 0\n",
    "        i = 0\n",
    "        while i < len(flowerbed):\n",
    "            print(i)\n",
    "\n",
    "            if flowerbed[i] == 0:\n",
    "                empty_left = i == 0 or flowerbed[i - 1] == 0\n",
    "                emtpy_right = i == len(flowerbed) - 1 or flowerbed[i + 1] == 0\n",
    "\n",
    "                if empty_left and emtpy_right:\n",
    "                    print(\"planting at i \" + str(i))\n",
    "                    count += 1\n",
    "                    i += 1\n",
    "                    if count == n:\n",
    "                        return True\n",
    "            i += 1\n",
    "        return count >= n\n",
    "\n",
    "\n",
    "sol = Solution()\n",
    "sol.canPlaceFlowers([1, 0, 0, 0, 0, 0, 1], 2)\n",
    "# sol.canPlaceFlowers([0], 1)\n",
    "# sol.canPlaceFlowers([0, 1], 1)"
   ]
  },
  {
   "cell_type": "code",
   "execution_count": null,
   "metadata": {},
   "outputs": [],
   "source": [
    "# https://leetcode.com/problems/reverse-vowels-of-a-string/\n",
    "class Solution:\n",
    "    def reverseVowels(self, s: str) -> str:\n",
    "        i, j = 0, len(s) - 1\n",
    "\n",
    "        vowels = [\"a\", \"e\", \"i\", \"o\", \"u\"]\n",
    "        res = [None] * len(s)\n",
    "\n",
    "        while i <= j:\n",
    "            if s[i].lower() in vowels and s[j].lower() in vowels:\n",
    "                res[i] = s[j]\n",
    "                res[j] = s[i]\n",
    "                i += 1\n",
    "                j -= 1\n",
    "                continue\n",
    "\n",
    "            if s[i].lower() not in vowels:\n",
    "                res[i] = s[i]\n",
    "                i += 1\n",
    "            if s[j].lower() not in vowels:\n",
    "                res[j] = s[j]\n",
    "                j -= 1\n",
    "\n",
    "        return \"\".join(res)\n",
    "\n",
    "\n",
    "sol = Solution()\n",
    "sol.reverseVowels(\".a\")"
   ]
  }
 ],
 "metadata": {
  "kernelspec": {
   "display_name": ".venv",
   "language": "python",
   "name": "python3"
  },
  "language_info": {
   "codemirror_mode": {
    "name": "ipython",
    "version": 3
   },
   "file_extension": ".py",
   "mimetype": "text/x-python",
   "name": "python",
   "nbconvert_exporter": "python",
   "pygments_lexer": "ipython3",
   "version": "3.10.13"
  }
 },
 "nbformat": 4,
 "nbformat_minor": 2
}
